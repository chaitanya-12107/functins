{
  "nbformat": 4,
  "nbformat_minor": 0,
  "metadata": {
    "colab": {
      "provenance": []
    },
    "kernelspec": {
      "name": "python3",
      "display_name": "Python 3"
    },
    "language_info": {
      "name": "python"
    }
  },
  "cells": [
    {
      "cell_type": "markdown",
      "source": [],
      "metadata": {
        "id": "qUrPPgDXuAAR"
      }
    },
    {
      "cell_type": "markdown",
      "source": [
        "HI\n"
      ],
      "metadata": {
        "id": "9EwPxom4uHDl"
      }
    },
    {
      "cell_type": "code",
      "execution_count": null,
      "metadata": {
        "id": "hgZkQT6atYop"
      },
      "outputs": [],
      "source": []
    },
    {
      "cell_type": "code",
      "source": [],
      "metadata": {
        "id": "Tosn7DRIuJlX"
      },
      "execution_count": null,
      "outputs": []
    }
  ]
}